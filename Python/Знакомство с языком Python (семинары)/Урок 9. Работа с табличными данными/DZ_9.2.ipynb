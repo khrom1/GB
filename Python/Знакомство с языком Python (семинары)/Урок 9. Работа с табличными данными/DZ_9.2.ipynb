{
  "nbformat": 4,
  "nbformat_minor": 0,
  "metadata": {
    "colab": {
      "private_outputs": true,
      "provenance": [],
      "authorship_tag": "ABX9TyP/0dIve9flhSOOkdeA+jQR"
    },
    "kernelspec": {
      "name": "python3",
      "display_name": "Python 3"
    },
    "language_info": {
      "name": "python"
    }
  },
  "cells": [
    {
      "cell_type": "code",
      "execution_count": null,
      "metadata": {
        "id": "A88-vfrX8WVW"
      },
      "outputs": [],
      "source": [
        "import pandas as pd"
      ]
    },
    {
      "cell_type": "code",
      "source": [
        "df=pd.read_csv('sample_data/california_housing_train.csv')"
      ],
      "metadata": {
        "id": "38E6NTv-8aE3"
      },
      "execution_count": null,
      "outputs": []
    },
    {
      "cell_type": "code",
      "source": [
        "df[df['population']==df['population'].min()]['households'].agg(['max'])"
      ],
      "metadata": {
        "id": "UeBJ75qd_2Hw"
      },
      "execution_count": null,
      "outputs": []
    }
  ]
}